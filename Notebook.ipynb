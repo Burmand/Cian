{
 "cells": [
  {
   "cell_type": "code",
   "execution_count": 847,
   "metadata": {},
   "outputs": [],
   "source": [
    "import pandas as pd\n",
    "import numpy as np\n",
    "import matplotlib.pyplot as plt\n",
    "import seaborn as sns"
   ]
  },
  {
   "cell_type": "code",
   "execution_count": 848,
   "metadata": {},
   "outputs": [],
   "source": [
    "# pd.set_option('display.max_colwidth',-1)\n",
    "pd.set_option('display.max_columns', 100)"
   ]
  },
  {
   "cell_type": "markdown",
   "metadata": {},
   "source": [
    "Собранные данные"
   ]
  },
  {
   "cell_type": "code",
   "execution_count": 849,
   "metadata": {},
   "outputs": [
    {
     "data": {
      "text/html": [
       "<div>\n",
       "<style scoped>\n",
       "    .dataframe tbody tr th:only-of-type {\n",
       "        vertical-align: middle;\n",
       "    }\n",
       "\n",
       "    .dataframe tbody tr th {\n",
       "        vertical-align: top;\n",
       "    }\n",
       "\n",
       "    .dataframe thead th {\n",
       "        text-align: right;\n",
       "    }\n",
       "</style>\n",
       "<table border=\"1\" class=\"dataframe\">\n",
       "  <thead>\n",
       "    <tr style=\"text-align: right;\">\n",
       "      <th></th>\n",
       "      <th>Price</th>\n",
       "      <th>Address</th>\n",
       "      <th>Metro</th>\n",
       "      <th>Summary</th>\n",
       "      <th>General Information</th>\n",
       "      <th>Building Information</th>\n",
       "      <th>Price per meter</th>\n",
       "    </tr>\n",
       "  </thead>\n",
       "  <tbody>\n",
       "    <tr>\n",
       "      <th>0</th>\n",
       "      <td>135 000 000 ₽</td>\n",
       "      <td>Москва, ЦАО, р-н Басманный, ул. Покровка, 45С4</td>\n",
       "      <td>Красные ворота</td>\n",
       "      <td>150 м²;Общая;89,5 м²;Жилая;15,5 м²;Кухня;3 из ...</td>\n",
       "      <td>Тип жилья;Вторичка;Планировка;Изолированная;Пл...</td>\n",
       "      <td>Год постройки;1906;Строительная серия;Индивиду...</td>\n",
       "      <td>900 000 ₽/м²</td>\n",
       "    </tr>\n",
       "    <tr>\n",
       "      <th>1</th>\n",
       "      <td>33 900 000 ₽</td>\n",
       "      <td>Москва, ЦАО, р-н Хамовники, ул. Тимура Фрунзе, 20</td>\n",
       "      <td>Парк Культуры</td>\n",
       "      <td>53,3 м²;Общая;5 из 5;Этаж;1907;Построен</td>\n",
       "      <td>Тип жилья;Вторичка;Планировка;Смежно-изолирова...</td>\n",
       "      <td>Год постройки;1907;Тип дома;Кирпичный;Тип пере...</td>\n",
       "      <td>636 023 ₽/м²</td>\n",
       "    </tr>\n",
       "    <tr>\n",
       "      <th>2</th>\n",
       "      <td>38 000 000 ₽</td>\n",
       "      <td>Москва, ЦАО, р-н Тверской, Долгоруковская ул., 35</td>\n",
       "      <td>Новослободская</td>\n",
       "      <td>101,4 м²;Общая;75,8 м²;Жилая;10,1 м²;Кухня;4 и...</td>\n",
       "      <td>Тип жилья;Вторичка;Планировка;Изолированная;Пл...</td>\n",
       "      <td>Год постройки;1906;Тип дома;Кирпичный;Тип пере...</td>\n",
       "      <td>374 753 ₽/м²</td>\n",
       "    </tr>\n",
       "    <tr>\n",
       "      <th>3</th>\n",
       "      <td>36 500 000 ₽</td>\n",
       "      <td>Москва, ЗАО, р-н Дорогомилово, Кутузовский про...</td>\n",
       "      <td>Студенческая</td>\n",
       "      <td>62 м²;Общая;11 м²;Кухня;7 из 8;Этаж;1937;Построен</td>\n",
       "      <td>Тип жилья;Вторичка;Планировка;Изолированная;Пл...</td>\n",
       "      <td>Год постройки;1937;Тип дома;Кирпичный;Тип пере...</td>\n",
       "      <td>588 710 ₽/м²</td>\n",
       "    </tr>\n",
       "    <tr>\n",
       "      <th>4</th>\n",
       "      <td>10 178 000 ₽</td>\n",
       "      <td>Москва, ЦАО, р-н Таганский, ул. Воронцово Поле...</td>\n",
       "      <td>Чкаловская</td>\n",
       "      <td>29,19 м²;Общая;16,7 м²;Жилая;2 из 4;Этаж</td>\n",
       "      <td>Тип жилья;Вторичка Апартаменты;Санузел;1 совме...</td>\n",
       "      <td>Тип дома;Кирпичный</td>\n",
       "      <td>348 681 ₽/м²</td>\n",
       "    </tr>\n",
       "  </tbody>\n",
       "</table>\n",
       "</div>"
      ],
      "text/plain": [
       "           Price                                            Address  \\\n",
       "0  135 000 000 ₽     Москва, ЦАО, р-н Басманный, ул. Покровка, 45С4   \n",
       "1   33 900 000 ₽  Москва, ЦАО, р-н Хамовники, ул. Тимура Фрунзе, 20   \n",
       "2   38 000 000 ₽  Москва, ЦАО, р-н Тверской, Долгоруковская ул., 35   \n",
       "3   36 500 000 ₽  Москва, ЗАО, р-н Дорогомилово, Кутузовский про...   \n",
       "4   10 178 000 ₽  Москва, ЦАО, р-н Таганский, ул. Воронцово Поле...   \n",
       "\n",
       "            Metro                                            Summary  \\\n",
       "0  Красные ворота  150 м²;Общая;89,5 м²;Жилая;15,5 м²;Кухня;3 из ...   \n",
       "1   Парк Культуры            53,3 м²;Общая;5 из 5;Этаж;1907;Построен   \n",
       "2  Новослободская  101,4 м²;Общая;75,8 м²;Жилая;10,1 м²;Кухня;4 и...   \n",
       "3    Студенческая  62 м²;Общая;11 м²;Кухня;7 из 8;Этаж;1937;Построен   \n",
       "4      Чкаловская           29,19 м²;Общая;16,7 м²;Жилая;2 из 4;Этаж   \n",
       "\n",
       "                                 General Information  \\\n",
       "0  Тип жилья;Вторичка;Планировка;Изолированная;Пл...   \n",
       "1  Тип жилья;Вторичка;Планировка;Смежно-изолирова...   \n",
       "2  Тип жилья;Вторичка;Планировка;Изолированная;Пл...   \n",
       "3  Тип жилья;Вторичка;Планировка;Изолированная;Пл...   \n",
       "4  Тип жилья;Вторичка Апартаменты;Санузел;1 совме...   \n",
       "\n",
       "                                Building Information Price per meter  \n",
       "0  Год постройки;1906;Строительная серия;Индивиду...    900 000 ₽/м²  \n",
       "1  Год постройки;1907;Тип дома;Кирпичный;Тип пере...    636 023 ₽/м²  \n",
       "2  Год постройки;1906;Тип дома;Кирпичный;Тип пере...    374 753 ₽/м²  \n",
       "3  Год постройки;1937;Тип дома;Кирпичный;Тип пере...    588 710 ₽/м²  \n",
       "4                                 Тип дома;Кирпичный    348 681 ₽/м²  "
      ]
     },
     "execution_count": 849,
     "metadata": {},
     "output_type": "execute_result"
    }
   ],
   "source": [
    "df = pd.read_csv('dataNEW.csv')\n",
    "df.head()"
   ]
  },
  {
   "cell_type": "markdown",
   "metadata": {},
   "source": [
    "Обработка сырых данных"
   ]
  },
  {
   "cell_type": "code",
   "execution_count": 850,
   "metadata": {},
   "outputs": [],
   "source": [
    "df['Price'] = df['Price'].str.replace('₽','')\n",
    "\n",
    "df[['City', 'Okrug','District', 'Street', 'Building','Building Part','Building Part2']] = (\n",
    "    df['Address']\n",
    "    .str\n",
    "    .split(',', expand=True)\n",
    ")\n",
    "df = df.drop(['Address','City','Street','Building', 'Building Part','Building Part2'], axis=1)"
   ]
  },
  {
   "cell_type": "code",
   "execution_count": 851,
   "metadata": {},
   "outputs": [],
   "source": [
    "SummaryDF = pd.DataFrame()\n",
    "for row in df['Summary']:\n",
    "    dictionary = {}\n",
    "    rowList = row.split(';')\n",
    "    for i in range(1, len(rowList), 2):\n",
    "        dictionary[rowList[i]] = rowList[i-1]\n",
    "    SummaryDF = pd.concat([SummaryDF, pd.DataFrame(dictionary, index=[0])], ignore_index=True)\n",
    "SummaryDF.head()\n",
    "\n",
    "df = pd.concat([df, SummaryDF], axis=1)\n",
    "df = df.drop('Summary', axis=1)"
   ]
  },
  {
   "cell_type": "code",
   "execution_count": 852,
   "metadata": {},
   "outputs": [],
   "source": [
    "GeneralInformationDF = pd.DataFrame()\n",
    "for row in df['General Information']:\n",
    "    dictionary = {}\n",
    "    try:\n",
    "        rowList = row.split(';')\n",
    "        for i in range(1, len(rowList), 2):\n",
    "            dictionary[rowList[i-1]] = rowList[i]\n",
    "    except Exception:\n",
    "        pass\n",
    "    finally:\n",
    "        GeneralInformationDF = pd.concat([GeneralInformationDF, pd.DataFrame(dictionary, index=[0])], ignore_index=True)\n",
    "GeneralInformationDF.head()\n",
    "\n",
    "df = pd.concat([df, GeneralInformationDF], axis=1)\n",
    "df = df.drop('General Information', axis=1)"
   ]
  },
  {
   "cell_type": "code",
   "execution_count": 853,
   "metadata": {},
   "outputs": [],
   "source": [
    "BuildingInformationDF = pd.DataFrame()\n",
    "for row in df['Building Information']:\n",
    "    dictionary = {}\n",
    "    try:\n",
    "        rowList = row.split(';')\n",
    "        for i in range(1, len(rowList), 2):\n",
    "            dictionary[rowList[i-1]] = rowList[i]\n",
    "    except Exception:\n",
    "        pass\n",
    "    finally:\n",
    "        BuildingInformationDF = pd.concat([BuildingInformationDF, pd.DataFrame(dictionary, index=[0])], ignore_index=True)\n",
    "BuildingInformationDF.head()\n",
    "\n",
    "df = pd.concat([df, BuildingInformationDF], axis=1)\n",
    "df = df.drop('Building Information', axis=1)"
   ]
  },
  {
   "cell_type": "code",
   "execution_count": 854,
   "metadata": {},
   "outputs": [],
   "source": [
    "import re\n",
    "\n",
    "def getValueFromString(s):\n",
    "    if (pd.isnull(s)):\n",
    "        return np.nan\n",
    "    value = re.findall('\\d+\\,*\\d*', s)[0]\n",
    "    value = float(value.replace(',','.'))\n",
    "    return value"
   ]
  },
  {
   "cell_type": "code",
   "execution_count": 855,
   "metadata": {},
   "outputs": [],
   "source": [
    "df['Общая'] = df['Общая'].apply(getValueFromString)\n",
    "df['Жилая'] = df['Жилая'].apply(getValueFromString)\n",
    "df['Кухня'] = df['Кухня'].apply(getValueFromString)\n",
    "df['Высота потолков'] = df['Высота потолков'].apply(getValueFromString)\n",
    "df['Кол-во корпусов'] = df['Кол-во корпусов'].apply(getValueFromString)\n",
    "df['Price per meter'] = df['Price per meter'].apply(getValueFromString)"
   ]
  },
  {
   "cell_type": "code",
   "execution_count": 856,
   "metadata": {},
   "outputs": [],
   "source": [
    "df[['Этаж квартиры', 'Всего этажей']] = (\n",
    "    df['Этаж']\n",
    "    .str\n",
    "    .split(' из ', expand=True)\n",
    ")\n",
    "df = df.drop('Этаж', axis=1)"
   ]
  },
  {
   "cell_type": "code",
   "execution_count": 857,
   "metadata": {},
   "outputs": [],
   "source": [
    "df['Price'] = df['Price'].str.replace(' ','').astype(float)\n",
    "df['Подъезды'] = df['Подъезды'].str.replace(' ','').astype(float)\n",
    "df['Этаж квартиры'] = df['Этаж квартиры'].str.replace(' ','').astype(float)\n",
    "df['Всего этажей'] = df['Всего этажей'].str.replace(' ','').astype(float)"
   ]
  },
  {
   "cell_type": "code",
   "execution_count": 858,
   "metadata": {},
   "outputs": [
    {
     "data": {
      "text/plain": [
       "Price                    0\n",
       "Metro                  159\n",
       "Price per meter          0\n",
       "Okrug                    0\n",
       "District                 0\n",
       "Общая                    0\n",
       "Жилая                 1911\n",
       "Кухня                 1479\n",
       "Построен              2918\n",
       "Сдан                  5314\n",
       "Срок сдачи            3955\n",
       "Отделка               3991\n",
       "Тип жилья              192\n",
       "Планировка            3628\n",
       "Площадь комнат        3377\n",
       "Высота потолков       2028\n",
       "Санузел               1465\n",
       "Ремонт                2050\n",
       "Вид из окон           1936\n",
       "Балкон/лоджия         3730\n",
       "Отделка               4229\n",
       "Год постройки         2520\n",
       "Строительная серия    4552\n",
       "Тип дома               996\n",
       "Тип перекрытий        3278\n",
       "Подъезды              3046\n",
       "Лифты                 2670\n",
       "Отопление             3213\n",
       "Аварийность           2502\n",
       "Парковка              2336\n",
       "Мусоропровод          4056\n",
       "Газоснабжение         4650\n",
       "Сдача комплекса       4079\n",
       "Застройщик            4079\n",
       "Класс                 4079\n",
       "Кол-во корпусов       4079\n",
       "Отделка               4079\n",
       "Этаж квартиры            0\n",
       "Всего этажей             0\n",
       "dtype: int64"
      ]
     },
     "execution_count": 858,
     "metadata": {},
     "output_type": "execute_result"
    }
   ],
   "source": [
    "df.isnull().sum()"
   ]
  },
  {
   "cell_type": "code",
   "execution_count": 859,
   "metadata": {},
   "outputs": [],
   "source": [
    "df = df[['Price', 'Тип жилья','Общая','Кухня','Жилая','Price per meter']]"
   ]
  },
  {
   "cell_type": "code",
   "execution_count": 860,
   "metadata": {},
   "outputs": [
    {
     "data": {
      "text/html": [
       "<div>\n",
       "<style scoped>\n",
       "    .dataframe tbody tr th:only-of-type {\n",
       "        vertical-align: middle;\n",
       "    }\n",
       "\n",
       "    .dataframe tbody tr th {\n",
       "        vertical-align: top;\n",
       "    }\n",
       "\n",
       "    .dataframe thead th {\n",
       "        text-align: right;\n",
       "    }\n",
       "</style>\n",
       "<table border=\"1\" class=\"dataframe\">\n",
       "  <thead>\n",
       "    <tr style=\"text-align: right;\">\n",
       "      <th></th>\n",
       "      <th>Price</th>\n",
       "      <th>Тип жилья</th>\n",
       "      <th>Общая</th>\n",
       "      <th>Кухня</th>\n",
       "      <th>Жилая</th>\n",
       "      <th>Price per meter</th>\n",
       "    </tr>\n",
       "  </thead>\n",
       "  <tbody>\n",
       "    <tr>\n",
       "      <th>725</th>\n",
       "      <td>30490000.0</td>\n",
       "      <td>Вторичка</td>\n",
       "      <td>51.0</td>\n",
       "      <td>14.5</td>\n",
       "      <td>30.3</td>\n",
       "      <td>597.0</td>\n",
       "    </tr>\n",
       "    <tr>\n",
       "      <th>4384</th>\n",
       "      <td>179437598.0</td>\n",
       "      <td>Новостройка Апартаменты</td>\n",
       "      <td>190.4</td>\n",
       "      <td>NaN</td>\n",
       "      <td>NaN</td>\n",
       "      <td>942.0</td>\n",
       "    </tr>\n",
       "    <tr>\n",
       "      <th>1447</th>\n",
       "      <td>59763319.0</td>\n",
       "      <td>Новостройка</td>\n",
       "      <td>98.6</td>\n",
       "      <td>NaN</td>\n",
       "      <td>NaN</td>\n",
       "      <td>606.0</td>\n",
       "    </tr>\n",
       "    <tr>\n",
       "      <th>5141</th>\n",
       "      <td>18848835.0</td>\n",
       "      <td>Новостройка</td>\n",
       "      <td>57.3</td>\n",
       "      <td>19.2</td>\n",
       "      <td>26.6</td>\n",
       "      <td>328.0</td>\n",
       "    </tr>\n",
       "    <tr>\n",
       "      <th>1530</th>\n",
       "      <td>56000000.0</td>\n",
       "      <td>Вторичка</td>\n",
       "      <td>90.0</td>\n",
       "      <td>12.0</td>\n",
       "      <td>45.0</td>\n",
       "      <td>622.0</td>\n",
       "    </tr>\n",
       "    <tr>\n",
       "      <th>1085</th>\n",
       "      <td>34950000.0</td>\n",
       "      <td>Вторичка</td>\n",
       "      <td>100.3</td>\n",
       "      <td>10.0</td>\n",
       "      <td>63.8</td>\n",
       "      <td>348.0</td>\n",
       "    </tr>\n",
       "    <tr>\n",
       "      <th>2842</th>\n",
       "      <td>16000000.0</td>\n",
       "      <td>Вторичка</td>\n",
       "      <td>47.8</td>\n",
       "      <td>7.3</td>\n",
       "      <td>31.2</td>\n",
       "      <td>334.0</td>\n",
       "    </tr>\n",
       "    <tr>\n",
       "      <th>942</th>\n",
       "      <td>13200000.0</td>\n",
       "      <td>Вторичка</td>\n",
       "      <td>43.8</td>\n",
       "      <td>6.0</td>\n",
       "      <td>34.0</td>\n",
       "      <td>301.0</td>\n",
       "    </tr>\n",
       "    <tr>\n",
       "      <th>4276</th>\n",
       "      <td>369000000.0</td>\n",
       "      <td>Вторичка Пентхаус</td>\n",
       "      <td>260.0</td>\n",
       "      <td>25.0</td>\n",
       "      <td>155.0</td>\n",
       "      <td>1.0</td>\n",
       "    </tr>\n",
       "    <tr>\n",
       "      <th>2110</th>\n",
       "      <td>25278480.0</td>\n",
       "      <td>Новостройка Апартаменты</td>\n",
       "      <td>48.0</td>\n",
       "      <td>NaN</td>\n",
       "      <td>17.2</td>\n",
       "      <td>526.0</td>\n",
       "    </tr>\n",
       "  </tbody>\n",
       "</table>\n",
       "</div>"
      ],
      "text/plain": [
       "            Price                Тип жилья  Общая  Кухня  Жилая  \\\n",
       "725    30490000.0                 Вторичка   51.0   14.5   30.3   \n",
       "4384  179437598.0  Новостройка Апартаменты  190.4    NaN    NaN   \n",
       "1447   59763319.0              Новостройка   98.6    NaN    NaN   \n",
       "5141   18848835.0              Новостройка   57.3   19.2   26.6   \n",
       "1530   56000000.0                 Вторичка   90.0   12.0   45.0   \n",
       "1085   34950000.0                 Вторичка  100.3   10.0   63.8   \n",
       "2842   16000000.0                 Вторичка   47.8    7.3   31.2   \n",
       "942    13200000.0                 Вторичка   43.8    6.0   34.0   \n",
       "4276  369000000.0        Вторичка Пентхаус  260.0   25.0  155.0   \n",
       "2110   25278480.0  Новостройка Апартаменты   48.0    NaN   17.2   \n",
       "\n",
       "      Price per meter  \n",
       "725             597.0  \n",
       "4384            942.0  \n",
       "1447            606.0  \n",
       "5141            328.0  \n",
       "1530            622.0  \n",
       "1085            348.0  \n",
       "2842            334.0  \n",
       "942             301.0  \n",
       "4276              1.0  \n",
       "2110            526.0  "
      ]
     },
     "execution_count": 860,
     "metadata": {},
     "output_type": "execute_result"
    }
   ],
   "source": [
    "df.sample(10)"
   ]
  },
  {
   "cell_type": "code",
   "execution_count": 861,
   "metadata": {},
   "outputs": [
    {
     "name": "stdout",
     "output_type": "stream",
     "text": [
      "<class 'pandas.core.frame.DataFrame'>\n",
      "RangeIndex: 5577 entries, 0 to 5576\n",
      "Data columns (total 6 columns):\n",
      " #   Column           Non-Null Count  Dtype  \n",
      "---  ------           --------------  -----  \n",
      " 0   Price            5577 non-null   float64\n",
      " 1   Тип жилья        5385 non-null   object \n",
      " 2   Общая            5577 non-null   float64\n",
      " 3   Кухня            4098 non-null   float64\n",
      " 4   Жилая            3666 non-null   float64\n",
      " 5   Price per meter  5577 non-null   float64\n",
      "dtypes: float64(5), object(1)\n",
      "memory usage: 261.5+ KB\n"
     ]
    }
   ],
   "source": [
    "df.info()"
   ]
  },
  {
   "cell_type": "code",
   "execution_count": 862,
   "metadata": {},
   "outputs": [
    {
     "data": {
      "text/plain": [
       "<AxesSubplot:>"
      ]
     },
     "execution_count": 862,
     "metadata": {},
     "output_type": "execute_result"
    },
    {
     "data": {
      "image/png": "[encoded data removed]",
      "text/plain": [
       "<Figure size 432x288 with 2 Axes>"
      ]
     },
     "metadata": {
      "needs_background": "light"
     },
     "output_type": "display_data"
    }
   ],
   "source": [
    "sns.heatmap(df.drop('Price',axis=1).corr(), annot=True)"
   ]
  },
  {
   "cell_type": "markdown",
   "metadata": {},
   "source": [
    "Обработка NaN Значений"
   ]
  },
  {
   "cell_type": "code",
   "execution_count": 863,
   "metadata": {},
   "outputs": [
    {
     "name": "stdout",
     "output_type": "stream",
     "text": [
      "Categorical:  ['Тип жилья']\n",
      "Numeric ['Price', 'Общая', 'Кухня', 'Жилая', 'Price per meter']\n"
     ]
    }
   ],
   "source": [
    "df_cat = list(df.select_dtypes(include=['object','bool']).columns)\n",
    "df_num = list(df.select_dtypes(include=['float64','int64']).columns)\n",
    "print(\"Categorical: \", df_cat)\n",
    "print(\"Numeric\", df_num)"
   ]
  },
  {
   "cell_type": "code",
   "execution_count": 864,
   "metadata": {},
   "outputs": [],
   "source": [
    "from sklearn.impute import SimpleImputer\n",
    "from sklearn.preprocessing import StandardScaler\n",
    "from sklearn.preprocessing import MinMaxScaler\n",
    "from sklearn.preprocessing import LabelEncoder\n",
    "\n",
    "imputer = SimpleImputer(strategy='median')\n",
    "df_num_imputed = pd.DataFrame(imputer.fit_transform(df[df_num]), columns= df[df_num].columns)\n",
    "\n",
    "df_num_imputed = pd.DataFrame(MinMaxScaler().fit_transform(df_num_imputed), columns=df_num_imputed.columns)\n",
    "df_cat_encoded = pd.get_dummies(df[df_cat])\n",
    "\n",
    "\n",
    "df_num_imputed.reset_index(drop=True, inplace=True)\n",
    "df_cat_encoded.reset_index(drop=True, inplace=True)\n",
    "\n",
    "y = df_num_imputed.pop('Price')\n",
    "X = pd.concat([df_cat_encoded, df_num_imputed], axis=1)"
   ]
  },
  {
   "cell_type": "code",
   "execution_count": 865,
   "metadata": {},
   "outputs": [
    {
     "data": {
      "text/html": [
       "<div>\n",
       "<style scoped>\n",
       "    .dataframe tbody tr th:only-of-type {\n",
       "        vertical-align: middle;\n",
       "    }\n",
       "\n",
       "    .dataframe tbody tr th {\n",
       "        vertical-align: top;\n",
       "    }\n",
       "\n",
       "    .dataframe thead th {\n",
       "        text-align: right;\n",
       "    }\n",
       "</style>\n",
       "<table border=\"1\" class=\"dataframe\">\n",
       "  <thead>\n",
       "    <tr style=\"text-align: right;\">\n",
       "      <th></th>\n",
       "      <th>Тип жилья_Вторичка</th>\n",
       "      <th>Тип жилья_Вторичка Апартаменты</th>\n",
       "      <th>Тип жилья_Вторичка Пентхаус</th>\n",
       "      <th>Тип жилья_Новостройка</th>\n",
       "      <th>Тип жилья_Новостройка Апартаменты</th>\n",
       "      <th>Тип жилья_Новостройка Пентхаус</th>\n",
       "      <th>Общая</th>\n",
       "      <th>Кухня</th>\n",
       "      <th>Жилая</th>\n",
       "      <th>Price per meter</th>\n",
       "    </tr>\n",
       "  </thead>\n",
       "  <tbody>\n",
       "    <tr>\n",
       "      <th>4681</th>\n",
       "      <td>0</td>\n",
       "      <td>0</td>\n",
       "      <td>0</td>\n",
       "      <td>1</td>\n",
       "      <td>0</td>\n",
       "      <td>0</td>\n",
       "      <td>0.059158</td>\n",
       "      <td>0.030303</td>\n",
       "      <td>0.061189</td>\n",
       "      <td>0.216433</td>\n",
       "    </tr>\n",
       "    <tr>\n",
       "      <th>3113</th>\n",
       "      <td>1</td>\n",
       "      <td>0</td>\n",
       "      <td>0</td>\n",
       "      <td>0</td>\n",
       "      <td>0</td>\n",
       "      <td>0</td>\n",
       "      <td>0.037789</td>\n",
       "      <td>0.076768</td>\n",
       "      <td>0.024883</td>\n",
       "      <td>0.299599</td>\n",
       "    </tr>\n",
       "    <tr>\n",
       "      <th>4049</th>\n",
       "      <td>0</td>\n",
       "      <td>0</td>\n",
       "      <td>0</td>\n",
       "      <td>1</td>\n",
       "      <td>0</td>\n",
       "      <td>0</td>\n",
       "      <td>0.033474</td>\n",
       "      <td>0.148485</td>\n",
       "      <td>0.013615</td>\n",
       "      <td>0.236473</td>\n",
       "    </tr>\n",
       "    <tr>\n",
       "      <th>5469</th>\n",
       "      <td>0</td>\n",
       "      <td>0</td>\n",
       "      <td>0</td>\n",
       "      <td>1</td>\n",
       "      <td>0</td>\n",
       "      <td>0</td>\n",
       "      <td>0.093895</td>\n",
       "      <td>0.093939</td>\n",
       "      <td>0.048513</td>\n",
       "      <td>0.450902</td>\n",
       "    </tr>\n",
       "    <tr>\n",
       "      <th>221</th>\n",
       "      <td>1</td>\n",
       "      <td>0</td>\n",
       "      <td>0</td>\n",
       "      <td>0</td>\n",
       "      <td>0</td>\n",
       "      <td>0</td>\n",
       "      <td>0.050632</td>\n",
       "      <td>0.093939</td>\n",
       "      <td>0.048513</td>\n",
       "      <td>0.440882</td>\n",
       "    </tr>\n",
       "    <tr>\n",
       "      <th>5381</th>\n",
       "      <td>0</td>\n",
       "      <td>0</td>\n",
       "      <td>0</td>\n",
       "      <td>0</td>\n",
       "      <td>1</td>\n",
       "      <td>0</td>\n",
       "      <td>0.050463</td>\n",
       "      <td>0.040404</td>\n",
       "      <td>0.042254</td>\n",
       "      <td>0.676353</td>\n",
       "    </tr>\n",
       "    <tr>\n",
       "      <th>5420</th>\n",
       "      <td>0</td>\n",
       "      <td>0</td>\n",
       "      <td>0</td>\n",
       "      <td>1</td>\n",
       "      <td>0</td>\n",
       "      <td>0</td>\n",
       "      <td>0.118842</td>\n",
       "      <td>0.332323</td>\n",
       "      <td>0.048513</td>\n",
       "      <td>0.320641</td>\n",
       "    </tr>\n",
       "    <tr>\n",
       "      <th>4534</th>\n",
       "      <td>1</td>\n",
       "      <td>0</td>\n",
       "      <td>0</td>\n",
       "      <td>0</td>\n",
       "      <td>0</td>\n",
       "      <td>0</td>\n",
       "      <td>0.069474</td>\n",
       "      <td>0.144444</td>\n",
       "      <td>0.049452</td>\n",
       "      <td>0.204409</td>\n",
       "    </tr>\n",
       "    <tr>\n",
       "      <th>1450</th>\n",
       "      <td>0</td>\n",
       "      <td>1</td>\n",
       "      <td>0</td>\n",
       "      <td>0</td>\n",
       "      <td>0</td>\n",
       "      <td>0</td>\n",
       "      <td>0.063474</td>\n",
       "      <td>0.093939</td>\n",
       "      <td>0.048513</td>\n",
       "      <td>0.800601</td>\n",
       "    </tr>\n",
       "    <tr>\n",
       "      <th>470</th>\n",
       "      <td>1</td>\n",
       "      <td>0</td>\n",
       "      <td>0</td>\n",
       "      <td>0</td>\n",
       "      <td>0</td>\n",
       "      <td>0</td>\n",
       "      <td>0.196842</td>\n",
       "      <td>0.093939</td>\n",
       "      <td>0.048513</td>\n",
       "      <td>0.899800</td>\n",
       "    </tr>\n",
       "  </tbody>\n",
       "</table>\n",
       "</div>"
      ],
      "text/plain": [
       "      Тип жилья_Вторичка  Тип жилья_Вторичка Апартаменты  \\\n",
       "4681                   0                               0   \n",
       "3113                   1                               0   \n",
       "4049                   0                               0   \n",
       "5469                   0                               0   \n",
       "221                    1                               0   \n",
       "5381                   0                               0   \n",
       "5420                   0                               0   \n",
       "4534                   1                               0   \n",
       "1450                   0                               1   \n",
       "470                    1                               0   \n",
       "\n",
       "      Тип жилья_Вторичка Пентхаус  Тип жилья_Новостройка  \\\n",
       "4681                            0                      1   \n",
       "3113                            0                      0   \n",
       "4049                            0                      1   \n",
       "5469                            0                      1   \n",
       "221                             0                      0   \n",
       "5381                            0                      0   \n",
       "5420                            0                      1   \n",
       "4534                            0                      0   \n",
       "1450                            0                      0   \n",
       "470                             0                      0   \n",
       "\n",
       "      Тип жилья_Новостройка Апартаменты  Тип жилья_Новостройка Пентхаус  \\\n",
       "4681                                  0                               0   \n",
       "3113                                  0                               0   \n",
       "4049                                  0                               0   \n",
       "5469                                  0                               0   \n",
       "221                                   0                               0   \n",
       "5381                                  1                               0   \n",
       "5420                                  0                               0   \n",
       "4534                                  0                               0   \n",
       "1450                                  0                               0   \n",
       "470                                   0                               0   \n",
       "\n",
       "         Общая     Кухня     Жилая  Price per meter  \n",
       "4681  0.059158  0.030303  0.061189         0.216433  \n",
       "3113  0.037789  0.076768  0.024883         0.299599  \n",
       "4049  0.033474  0.148485  0.013615         0.236473  \n",
       "5469  0.093895  0.093939  0.048513         0.450902  \n",
       "221   0.050632  0.093939  0.048513         0.440882  \n",
       "5381  0.050463  0.040404  0.042254         0.676353  \n",
       "5420  0.118842  0.332323  0.048513         0.320641  \n",
       "4534  0.069474  0.144444  0.049452         0.204409  \n",
       "1450  0.063474  0.093939  0.048513         0.800601  \n",
       "470   0.196842  0.093939  0.048513         0.899800  "
      ]
     },
     "execution_count": 865,
     "metadata": {},
     "output_type": "execute_result"
    }
   ],
   "source": [
    "X.sample(10)"
   ]
  },
  {
   "cell_type": "markdown",
   "metadata": {},
   "source": [
    "Линейная регрессия"
   ]
  },
  {
   "cell_type": "code",
   "execution_count": 866,
   "metadata": {},
   "outputs": [],
   "source": [
    "from sklearn.model_selection import train_test_split\n",
    "X_train, X_test, y_train, y_test = train_test_split(X, y, test_size=0.1, random_state=42)"
   ]
  },
  {
   "cell_type": "code",
   "execution_count": 867,
   "metadata": {},
   "outputs": [
    {
     "data": {
      "text/plain": [
       "0.6790831650337104"
      ]
     },
     "execution_count": 867,
     "metadata": {},
     "output_type": "execute_result"
    }
   ],
   "source": [
    "from sklearn.linear_model import LinearRegression\n",
    "\n",
    "model = LinearRegression()\n",
    "model.fit(X_train, y_train)\n",
    "model.score(X_test, y_test)"
   ]
  },
  {
   "cell_type": "code",
   "execution_count": 868,
   "metadata": {},
   "outputs": [],
   "source": [
    "coeff_df = pd.DataFrame(model.coef_, X.columns, columns=['Coefficient'])\n",
    "predictions = model.predict(X_test)"
   ]
  },
  {
   "cell_type": "code",
   "execution_count": 869,
   "metadata": {},
   "outputs": [
    {
     "name": "stdout",
     "output_type": "stream",
     "text": [
      "MAE:  0.013723720714841398\n",
      "R2 Score:  0.0936005403506125\n"
     ]
    }
   ],
   "source": [
    "from sklearn.metrics import mean_absolute_error, r2_score\n",
    "from statsmodels.genmod.generalized_linear_model import pred\n",
    "print(\"MAE: \", mean_absolute_error(predictions, y_test))\n",
    "print(\"R2 Score: \", r2_score(predictions, y_test))"
   ]
  },
  {
   "cell_type": "code",
   "execution_count": 870,
   "metadata": {},
   "outputs": [
    {
     "data": {
      "text/plain": [
       "const                                0.004710\n",
       "Тип жилья_Вторичка                  -0.008232\n",
       "Тип жилья_Вторичка Апартаменты      -0.004075\n",
       "Тип жилья_Вторичка Пентхаус          0.000893\n",
       "Тип жилья_Новостройка               -0.009357\n",
       "Тип жилья_Новостройка Апартаменты    0.003882\n",
       "Тип жилья_Новостройка Пентхаус       0.006318\n",
       "Общая                                0.455176\n",
       "Кухня                                0.004923\n",
       "Жилая                               -0.055784\n",
       "Price per meter                     -0.028669\n",
       "dtype: float64"
      ]
     },
     "execution_count": 870,
     "metadata": {},
     "output_type": "execute_result"
    }
   ],
   "source": [
    "import statsmodels.api as sm\n",
    "X_with_constant = sm.add_constant(X_train)\n",
    "model = sm.OLS(y_train, X_with_constant)\n",
    "results = model.fit()\n",
    "results.params"
   ]
  },
  {
   "cell_type": "code",
   "execution_count": 871,
   "metadata": {},
   "outputs": [
    {
     "name": "stdout",
     "output_type": "stream",
     "text": [
      "                            OLS Regression Results                            \n",
      "==============================================================================\n",
      "Dep. Variable:                  Price   R-squared:                       0.630\n",
      "Model:                            OLS   Adj. R-squared:                  0.629\n",
      "Method:                 Least Squares   F-statistic:                     851.1\n",
      "Date:                Thu, 10 Nov 2022   Prob (F-statistic):               0.00\n",
      "Time:                        20:35:02   Log-Likelihood:                 11507.\n",
      "No. Observations:                5019   AIC:                        -2.299e+04\n",
      "Df Residuals:                    5008   BIC:                        -2.292e+04\n",
      "Df Model:                          10                                         \n",
      "Covariance Type:            nonrobust                                         \n",
      "=====================================================================================================\n",
      "                                        coef    std err          t      P>|t|      [0.025      0.975]\n",
      "-----------------------------------------------------------------------------------------------------\n",
      "const                                 0.0047      0.002      2.269      0.023       0.001       0.009\n",
      "Тип жилья_Вторичка                   -0.0082      0.002     -4.287      0.000      -0.012      -0.004\n",
      "Тип жилья_Вторичка Апартаменты       -0.0041      0.002     -1.872      0.061      -0.008       0.000\n",
      "Тип жилья_Вторичка Пентхаус           0.0009      0.004      0.232      0.816      -0.007       0.008\n",
      "Тип жилья_Новостройка                -0.0094      0.002     -4.728      0.000      -0.013      -0.005\n",
      "Тип жилья_Новостройка Апартаменты     0.0039      0.002      1.670      0.095      -0.001       0.008\n",
      "Тип жилья_Новостройка Пентхаус        0.0063      0.012      0.507      0.612      -0.018       0.031\n",
      "Общая                                 0.4552      0.007     68.440      0.000       0.442       0.468\n",
      "Кухня                                 0.0049      0.005      0.963      0.336      -0.005       0.015\n",
      "Жилая                                -0.0558      0.009     -6.282      0.000      -0.073      -0.038\n",
      "Price per meter                      -0.0287      0.002    -16.515      0.000      -0.032      -0.025\n",
      "==============================================================================\n",
      "Omnibus:                     7061.489   Durbin-Watson:                   1.993\n",
      "Prob(Omnibus):                  0.000   Jarque-Bera (JB):         10049616.126\n",
      "Skew:                           7.562   Prob(JB):                         0.00\n",
      "Kurtosis:                     221.693   Cond. No.                         45.3\n",
      "==============================================================================\n",
      "\n",
      "Notes:\n",
      "[1] Standard Errors assume that the covariance matrix of the errors is correctly specified.\n"
     ]
    }
   ],
   "source": [
    "print(results.summary())"
   ]
  }
 ],
 "metadata": {
  "kernelspec": {
   "display_name": "Python 3.9.12 ('base')",
   "language": "python",
   "name": "python3"
  },
  "language_info": {
   "codemirror_mode": {
    "name": "ipython",
    "version": 3
   },
   "file_extension": ".py",
   "mimetype": "text/x-python",
   "name": "python",
   "nbconvert_exporter": "python",
   "pygments_lexer": "ipython3",
   "version": "3.9.12"
  },
  "orig_nbformat": 4,
  "vscode": {
   "interpreter": {
    "hash": "0537d8497029c7a73bc4efd35714022eb2f259bacc02e3853b7e14545146d982"
   }
  }
 },
 "nbformat": 4,
 "nbformat_minor": 2
}
